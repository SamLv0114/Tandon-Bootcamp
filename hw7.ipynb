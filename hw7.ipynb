{
 "cells": [
  {
   "cell_type": "markdown",
   "metadata": {},
   "source": [
    "1. How do you control for biases?\\\n",
    "We can design the study to minimize systematic errors, select representative samples, use randomized assignments to groups when possible, and apply statistical techniques to adjust for potential confounding variables.\n",
    "\n",
    "2. What are confounding variables?\\\n",
    "A confounding variable is a factor other than the independent variable that might produce an effect in an experimental study. \n",
    "\n",
    "3. What is A/B testing?\\\n",
    "A/B testing is a basic randomized control experiment. It is used to compare two versions of a variable to determine which one performs better in a controlled environment. \n",
    "\n",
    "4. When will you use Welch t-test?\\\n",
    "The Welch t-test is used instead of the standard Student's t-test when the two groups being compared have unequal variances and possibly unequal sample sizes. It's more reliable in these situations because it does not assume equal variance, making it suitable for non-homogeneous groups.\n",
    "\n",
    "5. A company claims that the average time its customer service representatives spend on the phone per call is 6 minutes. You believe that the average time is actually higher. You collect a random sample of 50 calls and find that the average time spent on the phone per call in your sample is 6.5 minutes, with a standard deviation of 1.2 minutes. Test whether there is sufficient evidence to support your claim at a significance level of 0.05.\\\n",
    "Using t-distribution. the p-value calculated was 0.0025, this indicates a strong evidence against the null hypothesis, as the p-value is less than the alpha level of 0.05. Thus, you can reject the null hypothesis and conclude that the average call time is likely greater than 6 minutes.\n",
    "\n",
    "\n",
    "6. A researcher wants to determine whether there is a difference in the mean scores of two groups of students on a math test. Group A consists of 25 students who received traditional teaching methods, while Group B consists of 30 students who received a new teaching method. The average score for Group A is 75, with a standard deviation of 8, and the average score for Group B is 78, with a standard deviation of 7. Test whether there is a significant difference in the mean scores of the two groups at a significance level of 0.05.\\\n",
    "Using Welch t-test, I found the t-statistic is -2.901 and the p-value is 0.0055.\n",
    "The negative t-statistic indicates that the mean of Group B is higher than that of Group A. With a p-value of 0.0055, which is less than the significance level of 0.05, we can reject the null hypothesis. This suggests a statistically significant difference in the mean scores of the two groups, indicating that the new teaching method may be more effective than the traditional method.\n"
   ]
  }
 ],
 "metadata": {
  "language_info": {
   "name": "python"
  }
 },
 "nbformat": 4,
 "nbformat_minor": 2
}
