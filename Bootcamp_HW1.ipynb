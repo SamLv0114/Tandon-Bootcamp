{
 "cells": [
  {
   "cell_type": "markdown",
   "metadata": {},
   "source": [
    "Take home exercises\\\n",
    "    1.Write a function count_vowels(word) that takes a word as an argument and returns the number of vowels in the word \\\n",
    "    2.Iterate through the following list of animals and print each one in all caps.\\\n",
    "        animals=['tiger', 'elephant', 'monkey', 'zebra', 'panther']\\\n",
    "    3.Write a program that iterates from 1 to 20, printing each number and whether it's odd or even.\\\n",
    "    4.Write a function sum_of_integers(a, b) that takes two integers as input from the user and returns their sum."
   ]
  },
  {
   "cell_type": "markdown",
   "metadata": {},
   "source": [
    "1."
   ]
  },
  {
   "cell_type": "code",
   "execution_count": 1,
   "metadata": {},
   "outputs": [
    {
     "data": {
      "text/plain": [
       "3"
      ]
     },
     "execution_count": 1,
     "metadata": {},
     "output_type": "execute_result"
    }
   ],
   "source": [
    "def count_vowels(word):\n",
    "    count = 0\n",
    "    vowels = \"AEIOUaeiou\"\n",
    "    for char in word:\n",
    "        if char in vowels:\n",
    "            count+=1\n",
    "    return count"
   ]
  },
  {
   "cell_type": "markdown",
   "metadata": {},
   "source": [
    "2."
   ]
  },
  {
   "cell_type": "code",
   "execution_count": 2,
   "metadata": {},
   "outputs": [
    {
     "name": "stdout",
     "output_type": "stream",
     "text": [
      "TIGER\n",
      "ELEPHANT\n",
      "MONKEY\n",
      "ZEBRA\n",
      "PANTHER\n"
     ]
    }
   ],
   "source": [
    "animals=['tiger', 'elephant', 'monkey', 'zebra', 'panther']\n",
    "\n",
    "for animal in animals:\n",
    "    print(animal.upper())"
   ]
  },
  {
   "cell_type": "markdown",
   "metadata": {},
   "source": [
    "3."
   ]
  },
  {
   "cell_type": "code",
   "execution_count": 6,
   "metadata": {},
   "outputs": [
    {
     "name": "stdout",
     "output_type": "stream",
     "text": [
      "1 odd\n",
      "2 even\n",
      "3 odd\n",
      "4 even\n",
      "5 odd\n",
      "6 even\n",
      "7 odd\n",
      "8 even\n",
      "9 odd\n",
      "10 even\n",
      "11 odd\n",
      "12 even\n",
      "13 odd\n",
      "14 even\n",
      "15 odd\n",
      "16 even\n",
      "17 odd\n",
      "18 even\n",
      "19 odd\n",
      "20 even\n"
     ]
    }
   ],
   "source": [
    "for i in range(1,21):\n",
    "    print(i, \"odd\" if i%2 else \"even\")\n",
    "    "
   ]
  },
  {
   "cell_type": "markdown",
   "metadata": {},
   "source": [
    "4."
   ]
  },
  {
   "cell_type": "code",
   "execution_count": 15,
   "metadata": {},
   "outputs": [
    {
     "name": "stdout",
     "output_type": "stream",
     "text": [
      "The sum is 2\n"
     ]
    }
   ],
   "source": [
    "def sum_of_integers():\n",
    "    a = input(\"Enter a number: \")\n",
    "    b = input(\"Enter another number\")\n",
    "    print(f\"The sum is {int(a)+int(b)}\")\n",
    "\n",
    "sum_of_integers()"
   ]
  },
  {
   "cell_type": "code",
   "execution_count": null,
   "metadata": {},
   "outputs": [],
   "source": []
  }
 ],
 "metadata": {
  "kernelspec": {
   "display_name": "base",
   "language": "python",
   "name": "python3"
  },
  "language_info": {
   "codemirror_mode": {
    "name": "ipython",
    "version": 3
   },
   "file_extension": ".py",
   "mimetype": "text/x-python",
   "name": "python",
   "nbconvert_exporter": "python",
   "pygments_lexer": "ipython3",
   "version": "3.11.5"
  }
 },
 "nbformat": 4,
 "nbformat_minor": 2
}
